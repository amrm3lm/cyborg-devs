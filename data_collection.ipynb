{
 "cells": [
  {
   "cell_type": "code",
   "execution_count": null,
   "metadata": {},
   "outputs": [],
   "source": [
    "import pandas as pd\n",
    "import numpy as np\n",
    "import matplotlib as mp"
   ]
  },
  {
   "cell_type": "code",
   "execution_count": null,
   "metadata": {},
   "outputs": [],
   "source": [
    "ds2 = pd.read_csv(\"data_set.csv\")\n",
    "pd.set_option('display.max_colwidth', None)\n"
   ]
  },
  {
   "cell_type": "code",
   "execution_count": null,
   "metadata": {},
   "outputs": [],
   "source": [
    "ds2['text'].head()"
   ]
  },
  {
   "cell_type": "code",
   "execution_count": null,
   "metadata": {},
   "outputs": [],
   "source": [
    "count = len(ds2)\n",
    "ds1 = pd.read_csv(\"TweetsStreamingTotal.csv\", nrows=count)\n",
    "ds1.head()"
   ]
  },
  {
   "cell_type": "code",
   "execution_count": null,
   "metadata": {},
   "outputs": [],
   "source": [
    "# data preprocessing plan\n",
    "# remove stop words\n",
    "# do counting\n",
    "# remove links, emojis, mentions, hashtags, tatweel, diacritics, repeated letters\n",
    "# lemmatization \n",
    "# \n",
    "\n",
    "# eda plan \n",
    "# compare num words, num emojis, num links, num hashtags, num repeated letters between 2 classes, num mentions\n",
    "# word cloud of both classes\n",
    "# tf-idf for each class\n",
    "# tf-idf for combined class"
   ]
  },
  {
   "cell_type": "code",
   "execution_count": null,
   "metadata": {},
   "outputs": [],
   "source": [
    "df_combined = pd.concat([ds1['text'], ds2['text']],\n",
    "                        axis=0, ignore_index=True)\n",
    "df_combined = pd.DataFrame([df_combined]).transpose()\n",
    "df_combined['spam'] = [1] * len(ds1) + [0] * len(ds2)\n",
    "df_combined.rename(columns={\"text\":\"raw_text\"}, inplace=True)\n",
    "\n",
    "df_combined\n"
   ]
  },
  {
   "cell_type": "code",
   "execution_count": null,
   "metadata": {},
   "outputs": [],
   "source": [
    "from ruqiya import ruqiya\n",
    "\n",
    "df_combined['clean_text'] = df_combined['raw_text'].map(ruqiya.remove_stop_words)\n",
    "#ruqiya.remove_stop_words(df_combined['raw_text'][4])"
   ]
  },
  {
   "cell_type": "code",
   "execution_count": null,
   "metadata": {},
   "outputs": [],
   "source": [
    "df_combined"
   ]
  },
  {
   "cell_type": "code",
   "execution_count": null,
   "metadata": {},
   "outputs": [],
   "source": [
    "import re\n",
    "\n",
    "def num_emoji(txt):\n",
    "    emoj = re.compile(\"[\"\n",
    "                      u\"\\U00002700-\\U000027BF\"  # Dingbats\n",
    "                      u\"\\U0001F600-\\U0001F64F\"  # Emoticons\n",
    "                      u\"\\U00002600-\\U000026FF\"  # Miscellaneous Symbols\n",
    "                      u\"\\U0001F300-\\U0001F5FF\"  # Miscellaneous Symbols And Pictographs\n",
    "                      u\"\\U0001F900-\\U0001F9FF\"  # Supplemental Symbols and Pictographs\n",
    "                      u\"\\U0001FA70-\\U0001FAFF\"  # Symbols and Pictographs Extended-A\n",
    "                      u\"\\U0001F680-\\U0001F6FF\"  # Transport and Map Symbols\n",
    "                      u\"\\U0001F600-\\U0001F64F\"  # emoticons\n",
    "                      u\"\\U0001F300-\\U0001F5FF\"  # symbols & pictographs\n",
    "                      u\"\\U0001F680-\\U0001F6FF\"  # transport & map symbols\n",
    "                      u\"\\U0001F1E0-\\U0001F1FF\"  # flags (iOS)\n",
    "                      u\"\\U00002702-\\U000027B0\"\n",
    "                      u\"\\U000024C2-\\U0001F251\"\n",
    "                      \"]+\", re.UNICODE)\n",
    "    return len(re.findall(emoj, txt))\n",
    "\n",
    "df_combined['num_hashtags'] = df_combined['clean_text'].map(lambda x : len(re.findall(r'#\\w+', x)))\n",
    "df_combined['num_mentions'] = df_combined['clean_text'].map(lambda x: len(re.findall(r'@\\w+', x)))\n",
    "df_combined['num_words'] = df_combined['clean_text'].map(lambda x: len(x.split()))\n",
    "df_combined['num_emojis'] = df_combined['clean_text'].map(num_emoji)\n",
    "df_combined['num_links'] = df_combined['clean_text'].map(\n",
    "    lambda x: len(re.findall(r\"(?:http?\\://|https?\\://|www)\\S+\", x)))\n",
    "df_combined[df_combined['num_mentions'] > 0]\n"
   ]
  },
  {
   "cell_type": "code",
   "execution_count": null,
   "metadata": {},
   "outputs": [],
   "source": [
    "df_combined['clean_text'] = df_combined['clean_text'].map(ruqiya.clean_text)\n",
    "df_combined"
   ]
  },
  {
   "cell_type": "code",
   "execution_count": null,
   "metadata": {},
   "outputs": [],
   "source": [
    "import nltk\n",
    "nltk.download('punkt')\n"
   ]
  },
  {
   "cell_type": "code",
   "execution_count": null,
   "metadata": {},
   "outputs": [],
   "source": [
    "df_combined['clean_text'] = df_combined['clean_text'].map(\n",
    "    nltk.word_tokenize)\n"
   ]
  },
  {
   "cell_type": "code",
   "execution_count": null,
   "metadata": {},
   "outputs": [],
   "source": [
    "df_combined\n"
   ]
  },
  {
   "cell_type": "code",
   "execution_count": null,
   "metadata": {},
   "outputs": [],
   "source": [
    "df_combined.to_csv(\"combined_cleaned_data.csv\")"
   ]
  },
  {
   "cell_type": "code",
   "execution_count": null,
   "metadata": {},
   "outputs": [],
   "source": []
  }
 ],
 "metadata": {
  "kernelspec": {
   "display_name": "cyborgdevs",
   "language": "python",
   "name": "python3"
  },
  "language_info": {
   "codemirror_mode": {
    "name": "ipython",
    "version": 3
   },
   "file_extension": ".py",
   "mimetype": "text/x-python",
   "name": "python",
   "nbconvert_exporter": "python",
   "pygments_lexer": "ipython3",
   "version": "3.10.12"
  }
 },
 "nbformat": 4,
 "nbformat_minor": 2
}
