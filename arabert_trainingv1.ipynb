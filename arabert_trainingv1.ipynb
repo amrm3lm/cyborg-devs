{
 "cells": [
  {
   "cell_type": "code",
   "execution_count": null,
   "metadata": {},
   "outputs": [],
   "source": [
    "import tensorflow as tf\n",
    "from transformers import BertTokenizer, TFBertModel\n"
   ]
  },
  {
   "cell_type": "code",
   "execution_count": null,
   "metadata": {},
   "outputs": [],
   "source": [
    "# Load BERT tokenizer and model\n",
    "bert_model_name = 'aubmindlab/bert-base-arabertv2'\n",
    "tokenizer = BertTokenizer.from_pretrained(bert_model_name)\n",
    "bert_model = TFBertModel.from_pretrained(bert_model_name)\n"
   ]
  },
  {
   "cell_type": "code",
   "execution_count": null,
   "metadata": {},
   "outputs": [],
   "source": [
    "from arabert.preprocess import ArabertPreprocessor\n",
    "\n",
    "arabert_prep = ArabertPreprocessor(model_name=bert_model_name)\n",
    "input_text = \" لاشتري فلوس مني والله اننو حقيقي\"\n",
    "\n",
    "# Tokenize input text\n",
    "tokens = tokenizer(input_text, padding='max_length',\n",
    "                   truncation=True, return_tensors='tf')\n",
    "res = arabert_prep.preprocess(input_text)\n",
    "print(tokens)"
   ]
  },
  {
   "cell_type": "code",
   "execution_count": null,
   "metadata": {},
   "outputs": [],
   "source": [
    "print(type(bert_model))"
   ]
  },
  {
   "cell_type": "code",
   "execution_count": null,
   "metadata": {},
   "outputs": [],
   "source": [
    "bert_output = bert_model(**tokens).last_hidden_state\n",
    "print(bert_output)\n"
   ]
  },
  {
   "cell_type": "code",
   "execution_count": null,
   "metadata": {},
   "outputs": [],
   "source": [
    "tokens['input_ids'].shape\n"
   ]
  },
  {
   "cell_type": "code",
   "execution_count": null,
   "metadata": {},
   "outputs": [],
   "source": [
    "num_classes=2\n",
    "\n",
    "# Add the pre-trained BERT layer\n",
    "# Define inputs\n",
    "input_ids = tf.keras.layers.Input(\n",
    "    shape=(tokenizer.model_max_length,), dtype=tf.int32)\n",
    "\n",
    "# BERT layer\n",
    "bert_output = bert_model(input_ids).last_hidden_state\n",
    "\n",
    "# Create the model\n",
    "outputs = tf.keras.layers.GlobalAveragePooling1D()(\n",
    "    bert_output)  # Example pooling layer\n",
    "outputs = tf.keras.layers.Dense(units=128, activation='relu')(outputs)\n",
    "outputs = tf.keras.layers.Dense(\n",
    "    units=num_classes, activation='softmax')(outputs)\n",
    "\n",
    "# Full model\n",
    "model = tf.keras.Model(inputs=input_ids, outputs=outputs)\n",
    "\n",
    "# Freeze the BERT layers\n",
    "bert_model.trainable = False\n",
    "\n",
    "# Compile the model\n",
    "model.compile(optimizer='adam', loss='categorical_crossentropy',\n",
    "              metrics=['accuracy'])\n",
    "\n",
    "# Print model summary\n",
    "model.summary()\n",
    "\n"
   ]
  },
  {
   "cell_type": "code",
   "execution_count": null,
   "metadata": {},
   "outputs": [],
   "source": [
    "print(tokenizer.model_max_length)\n"
   ]
  },
  {
   "cell_type": "code",
   "execution_count": null,
   "metadata": {},
   "outputs": [],
   "source": [
    "import pandas as pd\n",
    "import numpy as np"
   ]
  },
  {
   "cell_type": "code",
   "execution_count": null,
   "metadata": {},
   "outputs": [],
   "source": [
    "ds = pd.read_csv('combined_cleaned_data.csv')\n",
    "ds.head()"
   ]
  },
  {
   "cell_type": "code",
   "execution_count": null,
   "metadata": {},
   "outputs": [],
   "source": [
    "ds = ds[['clean_text','spam']]\n",
    "ds.head()"
   ]
  },
  {
   "cell_type": "code",
   "execution_count": null,
   "metadata": {},
   "outputs": [],
   "source": [
    "ds['clean_text'] = ds['clean_text'].map(eval)"
   ]
  },
  {
   "cell_type": "code",
   "execution_count": null,
   "metadata": {},
   "outputs": [],
   "source": [
    "ds['clean_text'] = ds['clean_text'].map(lambda x: \" \".join(x)).map(lambda x : tokenizer(x, padding='max_length',\n",
    "                                                                             truncation=True, return_tensors='tf'))\n",
    "\n"
   ]
  },
  {
   "cell_type": "code",
   "execution_count": null,
   "metadata": {},
   "outputs": [],
   "source": [
    "clean_np = np.array(ds['clean_text'].map(lambda x: np.array(x.input_ids)).to_list())\n",
    "clean_np = clean_np.reshape((90548,512))\n",
    "print(clean_np.shape)"
   ]
  },
  {
   "cell_type": "code",
   "execution_count": null,
   "metadata": {},
   "outputs": [],
   "source": [
    "x=tf.convert_to_tensor(clean_np)\n",
    "y = tf.one_hot(tf.convert_to_tensor(ds['spam']), depth=num_classes)\n",
    "print(x.shape)"
   ]
  },
  {
   "cell_type": "code",
   "execution_count": null,
   "metadata": {},
   "outputs": [],
   "source": [
    "epochs = 10\n",
    "history = model.fit(\n",
    "    x=x,\n",
    "    y=y,\n",
    "    validation_split=0.2,\n",
    "    epochs=epochs,\n",
    "    verbose=1,\n",
    "    batch_size=2)\n"
   ]
  },
  {
   "cell_type": "code",
   "execution_count": null,
   "metadata": {},
   "outputs": [],
   "source": [
    "print(x)"
   ]
  },
  {
   "cell_type": "code",
   "execution_count": null,
   "metadata": {},
   "outputs": [],
   "source": []
  }
 ],
 "metadata": {
  "kernelspec": {
   "display_name": "cyborgdevs2",
   "language": "python",
   "name": "python3"
  },
  "language_info": {
   "codemirror_mode": {
    "name": "ipython",
    "version": 3
   },
   "file_extension": ".py",
   "mimetype": "text/x-python",
   "name": "python",
   "nbconvert_exporter": "python",
   "pygments_lexer": "ipython3",
   "version": "3.9.17"
  }
 },
 "nbformat": 4,
 "nbformat_minor": 2
}
